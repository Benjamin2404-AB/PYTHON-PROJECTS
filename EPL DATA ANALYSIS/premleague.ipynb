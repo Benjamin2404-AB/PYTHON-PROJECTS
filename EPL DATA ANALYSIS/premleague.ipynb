{
 "cells": [
  {
   "cell_type": "markdown",
   "metadata": {},
   "source": [
    "![purple-divider](https://user-images.githubusercontent.com/7065401/52071927-c1cd7100-2562-11e9-908a-dde91ba14e59.png)\n",
    "\n",
    "## DATA ANALYSIS PREMIER LEAGUE 2018"
   ]
  },
  {
   "cell_type": "code",
   "execution_count": 38,
   "metadata": {},
   "outputs": [],
   "source": [
    "\n",
    "import pandas as pd # type: ignore\n",
    "import numpy as np # type: ignore\n",
    "import matplotlib.pyplot as plt # type: ignore\n",
    "df = pd.DataFrame()\n",
    "soccer = pd.read_csv(\"soccer18-19.csv\")\n"
   ]
  },
  {
   "cell_type": "code",
   "execution_count": 83,
   "metadata": {},
   "outputs": [
    {
     "name": "stdout",
     "output_type": "stream",
     "text": [
      "(380, 23)\n"
     ]
    }
   ],
   "source": [
    "print(soccer.shape)\n"
   ]
  },
  {
   "cell_type": "code",
   "execution_count": 84,
   "metadata": {},
   "outputs": [
    {
     "data": {
      "text/html": [
       "<div>\n",
       "<style scoped>\n",
       "    .dataframe tbody tr th:only-of-type {\n",
       "        vertical-align: middle;\n",
       "    }\n",
       "\n",
       "    .dataframe tbody tr th {\n",
       "        vertical-align: top;\n",
       "    }\n",
       "\n",
       "    .dataframe thead th {\n",
       "        text-align: right;\n",
       "    }\n",
       "</style>\n",
       "<table border=\"1\" class=\"dataframe\">\n",
       "  <thead>\n",
       "    <tr style=\"text-align: right;\">\n",
       "      <th></th>\n",
       "      <th>Div</th>\n",
       "      <th>Date</th>\n",
       "      <th>HomeTeam</th>\n",
       "      <th>AwayTeam</th>\n",
       "      <th>FTHG</th>\n",
       "      <th>FTAG</th>\n",
       "      <th>FTR</th>\n",
       "      <th>HTHG</th>\n",
       "      <th>HTAG</th>\n",
       "      <th>HTR</th>\n",
       "      <th>...</th>\n",
       "      <th>HST</th>\n",
       "      <th>AST</th>\n",
       "      <th>HF</th>\n",
       "      <th>AF</th>\n",
       "      <th>HC</th>\n",
       "      <th>AC</th>\n",
       "      <th>HY</th>\n",
       "      <th>AY</th>\n",
       "      <th>HR</th>\n",
       "      <th>AR</th>\n",
       "    </tr>\n",
       "  </thead>\n",
       "  <tbody>\n",
       "    <tr>\n",
       "      <th>0</th>\n",
       "      <td>E0</td>\n",
       "      <td>10/8/18</td>\n",
       "      <td>Man United</td>\n",
       "      <td>Leicester</td>\n",
       "      <td>2</td>\n",
       "      <td>1</td>\n",
       "      <td>H</td>\n",
       "      <td>1</td>\n",
       "      <td>0</td>\n",
       "      <td>H</td>\n",
       "      <td>...</td>\n",
       "      <td>6</td>\n",
       "      <td>4</td>\n",
       "      <td>11</td>\n",
       "      <td>8</td>\n",
       "      <td>2</td>\n",
       "      <td>5</td>\n",
       "      <td>2</td>\n",
       "      <td>1</td>\n",
       "      <td>0</td>\n",
       "      <td>0</td>\n",
       "    </tr>\n",
       "    <tr>\n",
       "      <th>1</th>\n",
       "      <td>E0</td>\n",
       "      <td>11/8/18</td>\n",
       "      <td>Bournemouth</td>\n",
       "      <td>Cardiff</td>\n",
       "      <td>2</td>\n",
       "      <td>0</td>\n",
       "      <td>H</td>\n",
       "      <td>1</td>\n",
       "      <td>0</td>\n",
       "      <td>H</td>\n",
       "      <td>...</td>\n",
       "      <td>4</td>\n",
       "      <td>1</td>\n",
       "      <td>11</td>\n",
       "      <td>9</td>\n",
       "      <td>7</td>\n",
       "      <td>4</td>\n",
       "      <td>1</td>\n",
       "      <td>1</td>\n",
       "      <td>0</td>\n",
       "      <td>0</td>\n",
       "    </tr>\n",
       "    <tr>\n",
       "      <th>2</th>\n",
       "      <td>E0</td>\n",
       "      <td>11/8/18</td>\n",
       "      <td>Fulham</td>\n",
       "      <td>Crystal Palace</td>\n",
       "      <td>0</td>\n",
       "      <td>2</td>\n",
       "      <td>A</td>\n",
       "      <td>0</td>\n",
       "      <td>1</td>\n",
       "      <td>A</td>\n",
       "      <td>...</td>\n",
       "      <td>6</td>\n",
       "      <td>9</td>\n",
       "      <td>9</td>\n",
       "      <td>11</td>\n",
       "      <td>5</td>\n",
       "      <td>5</td>\n",
       "      <td>1</td>\n",
       "      <td>2</td>\n",
       "      <td>0</td>\n",
       "      <td>0</td>\n",
       "    </tr>\n",
       "    <tr>\n",
       "      <th>3</th>\n",
       "      <td>E0</td>\n",
       "      <td>11/8/18</td>\n",
       "      <td>Huddersfield</td>\n",
       "      <td>Chelsea</td>\n",
       "      <td>0</td>\n",
       "      <td>3</td>\n",
       "      <td>A</td>\n",
       "      <td>0</td>\n",
       "      <td>2</td>\n",
       "      <td>A</td>\n",
       "      <td>...</td>\n",
       "      <td>1</td>\n",
       "      <td>4</td>\n",
       "      <td>9</td>\n",
       "      <td>8</td>\n",
       "      <td>2</td>\n",
       "      <td>5</td>\n",
       "      <td>2</td>\n",
       "      <td>1</td>\n",
       "      <td>0</td>\n",
       "      <td>0</td>\n",
       "    </tr>\n",
       "    <tr>\n",
       "      <th>4</th>\n",
       "      <td>E0</td>\n",
       "      <td>11/8/18</td>\n",
       "      <td>Newcastle</td>\n",
       "      <td>Tottenham</td>\n",
       "      <td>1</td>\n",
       "      <td>2</td>\n",
       "      <td>A</td>\n",
       "      <td>1</td>\n",
       "      <td>2</td>\n",
       "      <td>A</td>\n",
       "      <td>...</td>\n",
       "      <td>2</td>\n",
       "      <td>5</td>\n",
       "      <td>11</td>\n",
       "      <td>12</td>\n",
       "      <td>3</td>\n",
       "      <td>5</td>\n",
       "      <td>2</td>\n",
       "      <td>2</td>\n",
       "      <td>0</td>\n",
       "      <td>0</td>\n",
       "    </tr>\n",
       "    <tr>\n",
       "      <th>...</th>\n",
       "      <td>...</td>\n",
       "      <td>...</td>\n",
       "      <td>...</td>\n",
       "      <td>...</td>\n",
       "      <td>...</td>\n",
       "      <td>...</td>\n",
       "      <td>...</td>\n",
       "      <td>...</td>\n",
       "      <td>...</td>\n",
       "      <td>...</td>\n",
       "      <td>...</td>\n",
       "      <td>...</td>\n",
       "      <td>...</td>\n",
       "      <td>...</td>\n",
       "      <td>...</td>\n",
       "      <td>...</td>\n",
       "      <td>...</td>\n",
       "      <td>...</td>\n",
       "      <td>...</td>\n",
       "      <td>...</td>\n",
       "      <td>...</td>\n",
       "    </tr>\n",
       "    <tr>\n",
       "      <th>375</th>\n",
       "      <td>E0</td>\n",
       "      <td>12/5/19</td>\n",
       "      <td>Liverpool</td>\n",
       "      <td>Wolves</td>\n",
       "      <td>2</td>\n",
       "      <td>0</td>\n",
       "      <td>H</td>\n",
       "      <td>1</td>\n",
       "      <td>0</td>\n",
       "      <td>H</td>\n",
       "      <td>...</td>\n",
       "      <td>5</td>\n",
       "      <td>2</td>\n",
       "      <td>3</td>\n",
       "      <td>11</td>\n",
       "      <td>4</td>\n",
       "      <td>1</td>\n",
       "      <td>0</td>\n",
       "      <td>2</td>\n",
       "      <td>0</td>\n",
       "      <td>0</td>\n",
       "    </tr>\n",
       "    <tr>\n",
       "      <th>376</th>\n",
       "      <td>E0</td>\n",
       "      <td>12/5/19</td>\n",
       "      <td>Man United</td>\n",
       "      <td>Cardiff</td>\n",
       "      <td>0</td>\n",
       "      <td>2</td>\n",
       "      <td>A</td>\n",
       "      <td>0</td>\n",
       "      <td>1</td>\n",
       "      <td>A</td>\n",
       "      <td>...</td>\n",
       "      <td>10</td>\n",
       "      <td>4</td>\n",
       "      <td>9</td>\n",
       "      <td>6</td>\n",
       "      <td>11</td>\n",
       "      <td>2</td>\n",
       "      <td>3</td>\n",
       "      <td>3</td>\n",
       "      <td>0</td>\n",
       "      <td>0</td>\n",
       "    </tr>\n",
       "    <tr>\n",
       "      <th>377</th>\n",
       "      <td>E0</td>\n",
       "      <td>12/5/19</td>\n",
       "      <td>Southampton</td>\n",
       "      <td>Huddersfield</td>\n",
       "      <td>1</td>\n",
       "      <td>1</td>\n",
       "      <td>D</td>\n",
       "      <td>1</td>\n",
       "      <td>0</td>\n",
       "      <td>H</td>\n",
       "      <td>...</td>\n",
       "      <td>3</td>\n",
       "      <td>3</td>\n",
       "      <td>8</td>\n",
       "      <td>6</td>\n",
       "      <td>4</td>\n",
       "      <td>3</td>\n",
       "      <td>0</td>\n",
       "      <td>1</td>\n",
       "      <td>0</td>\n",
       "      <td>0</td>\n",
       "    </tr>\n",
       "    <tr>\n",
       "      <th>378</th>\n",
       "      <td>E0</td>\n",
       "      <td>12/5/19</td>\n",
       "      <td>Tottenham</td>\n",
       "      <td>Everton</td>\n",
       "      <td>2</td>\n",
       "      <td>2</td>\n",
       "      <td>D</td>\n",
       "      <td>1</td>\n",
       "      <td>0</td>\n",
       "      <td>H</td>\n",
       "      <td>...</td>\n",
       "      <td>3</td>\n",
       "      <td>9</td>\n",
       "      <td>10</td>\n",
       "      <td>13</td>\n",
       "      <td>7</td>\n",
       "      <td>4</td>\n",
       "      <td>0</td>\n",
       "      <td>2</td>\n",
       "      <td>0</td>\n",
       "      <td>0</td>\n",
       "    </tr>\n",
       "    <tr>\n",
       "      <th>379</th>\n",
       "      <td>E0</td>\n",
       "      <td>12/5/19</td>\n",
       "      <td>Watford</td>\n",
       "      <td>West Ham</td>\n",
       "      <td>1</td>\n",
       "      <td>4</td>\n",
       "      <td>A</td>\n",
       "      <td>0</td>\n",
       "      <td>2</td>\n",
       "      <td>A</td>\n",
       "      <td>...</td>\n",
       "      <td>8</td>\n",
       "      <td>9</td>\n",
       "      <td>10</td>\n",
       "      <td>10</td>\n",
       "      <td>7</td>\n",
       "      <td>2</td>\n",
       "      <td>1</td>\n",
       "      <td>0</td>\n",
       "      <td>1</td>\n",
       "      <td>0</td>\n",
       "    </tr>\n",
       "  </tbody>\n",
       "</table>\n",
       "<p>380 rows × 23 columns</p>\n",
       "</div>"
      ],
      "text/plain": [
       "    Div     Date      HomeTeam        AwayTeam  FTHG  FTAG FTR  HTHG  HTAG  \\\n",
       "0    E0  10/8/18    Man United       Leicester     2     1   H     1     0   \n",
       "1    E0  11/8/18   Bournemouth         Cardiff     2     0   H     1     0   \n",
       "2    E0  11/8/18        Fulham  Crystal Palace     0     2   A     0     1   \n",
       "3    E0  11/8/18  Huddersfield         Chelsea     0     3   A     0     2   \n",
       "4    E0  11/8/18     Newcastle       Tottenham     1     2   A     1     2   \n",
       "..   ..      ...           ...             ...   ...   ...  ..   ...   ...   \n",
       "375  E0  12/5/19     Liverpool          Wolves     2     0   H     1     0   \n",
       "376  E0  12/5/19    Man United         Cardiff     0     2   A     0     1   \n",
       "377  E0  12/5/19   Southampton    Huddersfield     1     1   D     1     0   \n",
       "378  E0  12/5/19     Tottenham         Everton     2     2   D     1     0   \n",
       "379  E0  12/5/19       Watford        West Ham     1     4   A     0     2   \n",
       "\n",
       "    HTR  ... HST  AST  HF  AF  HC  AC  HY  AY  HR  AR  \n",
       "0     H  ...   6    4  11   8   2   5   2   1   0   0  \n",
       "1     H  ...   4    1  11   9   7   4   1   1   0   0  \n",
       "2     A  ...   6    9   9  11   5   5   1   2   0   0  \n",
       "3     A  ...   1    4   9   8   2   5   2   1   0   0  \n",
       "4     A  ...   2    5  11  12   3   5   2   2   0   0  \n",
       "..   ..  ...  ..  ...  ..  ..  ..  ..  ..  ..  ..  ..  \n",
       "375   H  ...   5    2   3  11   4   1   0   2   0   0  \n",
       "376   A  ...  10    4   9   6  11   2   3   3   0   0  \n",
       "377   H  ...   3    3   8   6   4   3   0   1   0   0  \n",
       "378   H  ...   3    9  10  13   7   4   0   2   0   0  \n",
       "379   A  ...   8    9  10  10   7   2   1   0   1   0  \n",
       "\n",
       "[380 rows x 23 columns]"
      ]
     },
     "execution_count": 84,
     "metadata": {},
     "output_type": "execute_result"
    }
   ],
   "source": [
    "soccer"
   ]
  },
  {
   "cell_type": "code",
   "execution_count": 82,
   "metadata": {},
   "outputs": [
    {
     "data": {
      "text/html": [
       "<div>\n",
       "<style scoped>\n",
       "    .dataframe tbody tr th:only-of-type {\n",
       "        vertical-align: middle;\n",
       "    }\n",
       "\n",
       "    .dataframe tbody tr th {\n",
       "        vertical-align: top;\n",
       "    }\n",
       "\n",
       "    .dataframe thead th {\n",
       "        text-align: right;\n",
       "    }\n",
       "</style>\n",
       "<table border=\"1\" class=\"dataframe\">\n",
       "  <thead>\n",
       "    <tr style=\"text-align: right;\">\n",
       "      <th></th>\n",
       "      <th>Div</th>\n",
       "      <th>Date</th>\n",
       "      <th>HomeTeam</th>\n",
       "      <th>AwayTeam</th>\n",
       "      <th>FTHG</th>\n",
       "      <th>FTAG</th>\n",
       "      <th>FTR</th>\n",
       "      <th>HTHG</th>\n",
       "      <th>HTAG</th>\n",
       "      <th>HTR</th>\n",
       "      <th>...</th>\n",
       "      <th>HST</th>\n",
       "      <th>AST</th>\n",
       "      <th>HF</th>\n",
       "      <th>AF</th>\n",
       "      <th>HC</th>\n",
       "      <th>AC</th>\n",
       "      <th>HY</th>\n",
       "      <th>AY</th>\n",
       "      <th>HR</th>\n",
       "      <th>AR</th>\n",
       "    </tr>\n",
       "  </thead>\n",
       "  <tbody>\n",
       "    <tr>\n",
       "      <th>0</th>\n",
       "      <td>E0</td>\n",
       "      <td>10/8/18</td>\n",
       "      <td>Man United</td>\n",
       "      <td>Leicester</td>\n",
       "      <td>2</td>\n",
       "      <td>1</td>\n",
       "      <td>H</td>\n",
       "      <td>1</td>\n",
       "      <td>0</td>\n",
       "      <td>H</td>\n",
       "      <td>...</td>\n",
       "      <td>6</td>\n",
       "      <td>4</td>\n",
       "      <td>11</td>\n",
       "      <td>8</td>\n",
       "      <td>2</td>\n",
       "      <td>5</td>\n",
       "      <td>2</td>\n",
       "      <td>1</td>\n",
       "      <td>0</td>\n",
       "      <td>0</td>\n",
       "    </tr>\n",
       "    <tr>\n",
       "      <th>1</th>\n",
       "      <td>E0</td>\n",
       "      <td>11/8/18</td>\n",
       "      <td>Bournemouth</td>\n",
       "      <td>Cardiff</td>\n",
       "      <td>2</td>\n",
       "      <td>0</td>\n",
       "      <td>H</td>\n",
       "      <td>1</td>\n",
       "      <td>0</td>\n",
       "      <td>H</td>\n",
       "      <td>...</td>\n",
       "      <td>4</td>\n",
       "      <td>1</td>\n",
       "      <td>11</td>\n",
       "      <td>9</td>\n",
       "      <td>7</td>\n",
       "      <td>4</td>\n",
       "      <td>1</td>\n",
       "      <td>1</td>\n",
       "      <td>0</td>\n",
       "      <td>0</td>\n",
       "    </tr>\n",
       "    <tr>\n",
       "      <th>2</th>\n",
       "      <td>E0</td>\n",
       "      <td>11/8/18</td>\n",
       "      <td>Fulham</td>\n",
       "      <td>Crystal Palace</td>\n",
       "      <td>0</td>\n",
       "      <td>2</td>\n",
       "      <td>A</td>\n",
       "      <td>0</td>\n",
       "      <td>1</td>\n",
       "      <td>A</td>\n",
       "      <td>...</td>\n",
       "      <td>6</td>\n",
       "      <td>9</td>\n",
       "      <td>9</td>\n",
       "      <td>11</td>\n",
       "      <td>5</td>\n",
       "      <td>5</td>\n",
       "      <td>1</td>\n",
       "      <td>2</td>\n",
       "      <td>0</td>\n",
       "      <td>0</td>\n",
       "    </tr>\n",
       "    <tr>\n",
       "      <th>3</th>\n",
       "      <td>E0</td>\n",
       "      <td>11/8/18</td>\n",
       "      <td>Huddersfield</td>\n",
       "      <td>Chelsea</td>\n",
       "      <td>0</td>\n",
       "      <td>3</td>\n",
       "      <td>A</td>\n",
       "      <td>0</td>\n",
       "      <td>2</td>\n",
       "      <td>A</td>\n",
       "      <td>...</td>\n",
       "      <td>1</td>\n",
       "      <td>4</td>\n",
       "      <td>9</td>\n",
       "      <td>8</td>\n",
       "      <td>2</td>\n",
       "      <td>5</td>\n",
       "      <td>2</td>\n",
       "      <td>1</td>\n",
       "      <td>0</td>\n",
       "      <td>0</td>\n",
       "    </tr>\n",
       "    <tr>\n",
       "      <th>4</th>\n",
       "      <td>E0</td>\n",
       "      <td>11/8/18</td>\n",
       "      <td>Newcastle</td>\n",
       "      <td>Tottenham</td>\n",
       "      <td>1</td>\n",
       "      <td>2</td>\n",
       "      <td>A</td>\n",
       "      <td>1</td>\n",
       "      <td>2</td>\n",
       "      <td>A</td>\n",
       "      <td>...</td>\n",
       "      <td>2</td>\n",
       "      <td>5</td>\n",
       "      <td>11</td>\n",
       "      <td>12</td>\n",
       "      <td>3</td>\n",
       "      <td>5</td>\n",
       "      <td>2</td>\n",
       "      <td>2</td>\n",
       "      <td>0</td>\n",
       "      <td>0</td>\n",
       "    </tr>\n",
       "    <tr>\n",
       "      <th>5</th>\n",
       "      <td>E0</td>\n",
       "      <td>11/8/18</td>\n",
       "      <td>Watford</td>\n",
       "      <td>Brighton</td>\n",
       "      <td>2</td>\n",
       "      <td>0</td>\n",
       "      <td>H</td>\n",
       "      <td>1</td>\n",
       "      <td>0</td>\n",
       "      <td>H</td>\n",
       "      <td>...</td>\n",
       "      <td>5</td>\n",
       "      <td>0</td>\n",
       "      <td>10</td>\n",
       "      <td>16</td>\n",
       "      <td>8</td>\n",
       "      <td>2</td>\n",
       "      <td>2</td>\n",
       "      <td>2</td>\n",
       "      <td>0</td>\n",
       "      <td>0</td>\n",
       "    </tr>\n",
       "    <tr>\n",
       "      <th>6</th>\n",
       "      <td>E0</td>\n",
       "      <td>11/8/18</td>\n",
       "      <td>Wolves</td>\n",
       "      <td>Everton</td>\n",
       "      <td>2</td>\n",
       "      <td>2</td>\n",
       "      <td>D</td>\n",
       "      <td>1</td>\n",
       "      <td>1</td>\n",
       "      <td>D</td>\n",
       "      <td>...</td>\n",
       "      <td>4</td>\n",
       "      <td>5</td>\n",
       "      <td>8</td>\n",
       "      <td>7</td>\n",
       "      <td>3</td>\n",
       "      <td>6</td>\n",
       "      <td>0</td>\n",
       "      <td>1</td>\n",
       "      <td>0</td>\n",
       "      <td>1</td>\n",
       "    </tr>\n",
       "    <tr>\n",
       "      <th>7</th>\n",
       "      <td>E0</td>\n",
       "      <td>12/8/18</td>\n",
       "      <td>Arsenal</td>\n",
       "      <td>Man City</td>\n",
       "      <td>0</td>\n",
       "      <td>2</td>\n",
       "      <td>A</td>\n",
       "      <td>0</td>\n",
       "      <td>1</td>\n",
       "      <td>A</td>\n",
       "      <td>...</td>\n",
       "      <td>3</td>\n",
       "      <td>8</td>\n",
       "      <td>11</td>\n",
       "      <td>14</td>\n",
       "      <td>2</td>\n",
       "      <td>9</td>\n",
       "      <td>2</td>\n",
       "      <td>2</td>\n",
       "      <td>0</td>\n",
       "      <td>0</td>\n",
       "    </tr>\n",
       "    <tr>\n",
       "      <th>8</th>\n",
       "      <td>E0</td>\n",
       "      <td>12/8/18</td>\n",
       "      <td>Liverpool</td>\n",
       "      <td>West Ham</td>\n",
       "      <td>4</td>\n",
       "      <td>0</td>\n",
       "      <td>H</td>\n",
       "      <td>2</td>\n",
       "      <td>0</td>\n",
       "      <td>H</td>\n",
       "      <td>...</td>\n",
       "      <td>8</td>\n",
       "      <td>2</td>\n",
       "      <td>14</td>\n",
       "      <td>9</td>\n",
       "      <td>5</td>\n",
       "      <td>4</td>\n",
       "      <td>1</td>\n",
       "      <td>2</td>\n",
       "      <td>0</td>\n",
       "      <td>0</td>\n",
       "    </tr>\n",
       "    <tr>\n",
       "      <th>9</th>\n",
       "      <td>E0</td>\n",
       "      <td>12/8/18</td>\n",
       "      <td>Southampton</td>\n",
       "      <td>Burnley</td>\n",
       "      <td>0</td>\n",
       "      <td>0</td>\n",
       "      <td>D</td>\n",
       "      <td>0</td>\n",
       "      <td>0</td>\n",
       "      <td>D</td>\n",
       "      <td>...</td>\n",
       "      <td>3</td>\n",
       "      <td>6</td>\n",
       "      <td>10</td>\n",
       "      <td>9</td>\n",
       "      <td>8</td>\n",
       "      <td>5</td>\n",
       "      <td>0</td>\n",
       "      <td>1</td>\n",
       "      <td>0</td>\n",
       "      <td>0</td>\n",
       "    </tr>\n",
       "  </tbody>\n",
       "</table>\n",
       "<p>10 rows × 23 columns</p>\n",
       "</div>"
      ],
      "text/plain": [
       "  Div     Date      HomeTeam        AwayTeam  FTHG  FTAG FTR  HTHG  HTAG HTR  \\\n",
       "0  E0  10/8/18    Man United       Leicester     2     1   H     1     0   H   \n",
       "1  E0  11/8/18   Bournemouth         Cardiff     2     0   H     1     0   H   \n",
       "2  E0  11/8/18        Fulham  Crystal Palace     0     2   A     0     1   A   \n",
       "3  E0  11/8/18  Huddersfield         Chelsea     0     3   A     0     2   A   \n",
       "4  E0  11/8/18     Newcastle       Tottenham     1     2   A     1     2   A   \n",
       "5  E0  11/8/18       Watford        Brighton     2     0   H     1     0   H   \n",
       "6  E0  11/8/18        Wolves         Everton     2     2   D     1     1   D   \n",
       "7  E0  12/8/18       Arsenal        Man City     0     2   A     0     1   A   \n",
       "8  E0  12/8/18     Liverpool        West Ham     4     0   H     2     0   H   \n",
       "9  E0  12/8/18   Southampton         Burnley     0     0   D     0     0   D   \n",
       "\n",
       "   ... HST  AST  HF  AF  HC  AC  HY  AY  HR  AR  \n",
       "0  ...   6    4  11   8   2   5   2   1   0   0  \n",
       "1  ...   4    1  11   9   7   4   1   1   0   0  \n",
       "2  ...   6    9   9  11   5   5   1   2   0   0  \n",
       "3  ...   1    4   9   8   2   5   2   1   0   0  \n",
       "4  ...   2    5  11  12   3   5   2   2   0   0  \n",
       "5  ...   5    0  10  16   8   2   2   2   0   0  \n",
       "6  ...   4    5   8   7   3   6   0   1   0   1  \n",
       "7  ...   3    8  11  14   2   9   2   2   0   0  \n",
       "8  ...   8    2  14   9   5   4   1   2   0   0  \n",
       "9  ...   3    6  10   9   8   5   0   1   0   0  \n",
       "\n",
       "[10 rows x 23 columns]"
      ]
     },
     "execution_count": 82,
     "metadata": {},
     "output_type": "execute_result"
    }
   ],
   "source": [
    "soccer.head(10)"
   ]
  },
  {
   "cell_type": "code",
   "execution_count": 24,
   "metadata": {},
   "outputs": [
    {
     "data": {
      "text/plain": [
       "8740"
      ]
     },
     "execution_count": 24,
     "metadata": {},
     "output_type": "execute_result"
    }
   ],
   "source": []
  },
  {
   "cell_type": "code",
   "execution_count": 81,
   "metadata": {},
   "outputs": [
    {
     "name": "stdout",
     "output_type": "stream",
     "text": [
      "<class 'pandas.core.frame.DataFrame'>\n",
      "RangeIndex: 380 entries, 0 to 379\n",
      "Data columns (total 23 columns):\n",
      " #   Column    Non-Null Count  Dtype \n",
      "---  ------    --------------  ----- \n",
      " 0   Div       380 non-null    object\n",
      " 1   Date      380 non-null    object\n",
      " 2   HomeTeam  380 non-null    object\n",
      " 3   AwayTeam  380 non-null    object\n",
      " 4   FTHG      380 non-null    int64 \n",
      " 5   FTAG      380 non-null    int64 \n",
      " 6   FTR       380 non-null    object\n",
      " 7   HTHG      380 non-null    int64 \n",
      " 8   HTAG      380 non-null    int64 \n",
      " 9   HTR       380 non-null    object\n",
      " 10  Referee   380 non-null    object\n",
      " 11  HS        380 non-null    int64 \n",
      " 12  AS        380 non-null    int64 \n",
      " 13  HST       380 non-null    int64 \n",
      " 14  AST       380 non-null    int64 \n",
      " 15  HF        380 non-null    int64 \n",
      " 16  AF        380 non-null    int64 \n",
      " 17  HC        380 non-null    int64 \n",
      " 18  AC        380 non-null    int64 \n",
      " 19  HY        380 non-null    int64 \n",
      " 20  AY        380 non-null    int64 \n",
      " 21  HR        380 non-null    int64 \n",
      " 22  AR        380 non-null    int64 \n",
      "dtypes: int64(16), object(7)\n",
      "memory usage: 68.4+ KB\n"
     ]
    }
   ],
   "source": [
    "soccer.info()"
   ]
  },
  {
   "cell_type": "code",
   "execution_count": null,
   "metadata": {},
   "outputs": [],
   "source": [
    "soccer.describe()"
   ]
  },
  {
   "cell_type": "code",
   "execution_count": 9,
   "metadata": {},
   "outputs": [
    {
     "data": {
      "text/plain": [
       "AwayTeam\n",
       "Leicester         19\n",
       "Cardiff           19\n",
       "Huddersfield      19\n",
       "Watford           19\n",
       "Man United        19\n",
       "Bournemouth       19\n",
       "Fulham            19\n",
       "Wolves            19\n",
       "Southampton       19\n",
       "Arsenal           19\n",
       "Newcastle         19\n",
       "Burnley           19\n",
       "West Ham          19\n",
       "Man City          19\n",
       "Everton           19\n",
       "Brighton          19\n",
       "Tottenham         19\n",
       "Chelsea           19\n",
       "Crystal Palace    19\n",
       "Liverpool         19\n",
       "Name: count, dtype: int64"
      ]
     },
     "execution_count": 9,
     "metadata": {},
     "output_type": "execute_result"
    }
   ],
   "source": [
    "soccer['AwayTeam'].value_counts()\n"
   ]
  },
  {
   "cell_type": "code",
   "execution_count": null,
   "metadata": {},
   "outputs": [],
   "source": [
    "soccer['HomeTeam'].value_counts() "
   ]
  },
  {
   "cell_type": "markdown",
   "metadata": {},
   "source": [
    "![green-divider](https://user-images.githubusercontent.com/7065401/52071924-c003ad80-2562-11e9-8297-1c6595f8a7ff.png)\n",
    "\n",
    "## FOUL ANALYSIS\n",
    "\n",
    "-> Which team committed the most fouls?\n",
    "\n",
    "-> Which Home Team committed  the most fouls?\n",
    "\n",
    "-> Which Away Team committed the most fouls?\n",
    "\n",
    "-> Which team committed the least fouls?"
   ]
  },
  {
   "cell_type": "code",
   "execution_count": 85,
   "metadata": {},
   "outputs": [
    {
     "name": "stdout",
     "output_type": "stream",
     "text": [
      "3858\n"
     ]
    }
   ],
   "source": [
    "total_fouls_home = soccer['HF'].sum()\n",
    "print(total_fouls_home)"
   ]
  },
  {
   "cell_type": "code",
   "execution_count": 86,
   "metadata": {},
   "outputs": [
    {
     "name": "stdout",
     "output_type": "stream",
     "text": [
      "          HomeTeam   HF\n",
      "2         Brighton  221\n",
      "17         Watford  221\n",
      "15     Southampton  219\n",
      "0          Arsenal  218\n",
      "7          Everton  218\n",
      "9     Huddersfield  214\n",
      "13      Man United  213\n",
      "14       Newcastle  203\n",
      "8           Fulham  199\n",
      "19          Wolves  198\n",
      "4          Cardiff  195\n",
      "1      Bournemouth  187\n",
      "3          Burnley  184\n",
      "10       Leicester  184\n",
      "6   Crystal Palace  180\n",
      "16       Tottenham  174\n",
      "18        West Ham  165\n",
      "12        Man City  162\n",
      "5          Chelsea  154\n",
      "11       Liverpool  149\n"
     ]
    }
   ],
   "source": [
    "hfouls = soccer[['HF','HomeTeam']]\n",
    "thfouls = hfouls.groupby('HomeTeam',as_index=False)['HF'].sum().sort_values(by ='HF' ,ascending=False)\n",
    "print(thfouls)\n"
   ]
  },
  {
   "cell_type": "markdown",
   "metadata": {},
   "source": [
    "\n",
    "There was a total of 3858 fouls committed by Home Teams .\n",
    "\n",
    "Brighton and Watford were the home teams to commit the most fouls with 221 Fouls committed at home\n"
   ]
  },
  {
   "cell_type": "code",
   "execution_count": 87,
   "metadata": {},
   "outputs": [
    {
     "data": {
      "text/plain": [
       "<Axes: xlabel='HomeTeams', ylabel='Fouls committed by HomeTeam'>"
      ]
     },
     "execution_count": 87,
     "metadata": {},
     "output_type": "execute_result"
    },
    {
     "data": {
      "image/png": "[encoded data removed]",
      "text/plain": [
       "<Figure size 1500x500 with 1 Axes>"
      ]
     },
     "metadata": {},
     "output_type": "display_data"
    }
   ],
   "source": [
    "thfouls.plot(kind='bar',xlabel='HomeTeams' , ylabel='Fouls committed by HomeTeam',figsize=(15,5))"
   ]
  },
  {
   "cell_type": "code",
   "execution_count": null,
   "metadata": {},
   "outputs": [],
   "source": [
    "aFouls = soccer[['AF','AwayTeam']]\n",
    "total_afouls = aFouls.groupby('AwayTeam', as_index=False)[\"AF\"].sum().sort_values(by = 'AF',ascending=False )\n",
    "print(total_afouls)"
   ]
  },
  {
   "cell_type": "markdown",
   "metadata": {},
   "source": [
    "Brighton commited the most fouls as an away team with 242 Fouls."
   ]
  },
  {
   "cell_type": "code",
   "execution_count": null,
   "metadata": {},
   "outputs": [],
   "source": [
    "df3 = pd.DataFrame(thfouls)\n",
    "df3.rename(columns={'HomeTeam':'Team'},inplace=True)\n",
    "print(df3)\n",
    "df4 = pd.DataFrame(total_afouls)\n",
    "df4.rename(columns={'AwayTeam':'Team'},inplace=True)\n",
    "print(df4)"
   ]
  },
  {
   "cell_type": "code",
   "execution_count": null,
   "metadata": {},
   "outputs": [],
   "source": [
    "#print(df([thfouls],[total_afouls],columns=['Team ' ,'Fi']))\n",
    "merged_fouls = pd.merge(left= df3 ,right= df4 , on='Team' ,how='right')\n",
    "print(merged_fouls)"
   ]
  },
  {
   "cell_type": "code",
   "execution_count": null,
   "metadata": {},
   "outputs": [],
   "source": [
    "merged_fouls['Total Fouls'] = merged_fouls['AF'] + merged_fouls['HF']\n",
    "\n",
    "print(merged_fouls.sort_values(by = 'Total Fouls' ,ascending=False))\n"
   ]
  },
  {
   "cell_type": "code",
   "execution_count": null,
   "metadata": {},
   "outputs": [],
   "source": [
    "fig, ax = plt.subplots(figsize =(26, 10))\n",
    "\n",
    "#barsFouls = ax.barh(y = merged_fouls['Team'], width =merged_fouls['Total Fouls'],linewidth = 0 , )\n",
    "#barsFouls[0].set_color('r')\n",
    "#barsFouls[2].set_color('r')\n",
    "#barsFouls[5].set_color('r')\n",
    "\n",
    "barF= ax.bar(x = merged_fouls['Team'], height =merged_fouls['Total Fouls'],linewidth = 0 , )\n",
    "plt.rcParams['font.size'] = 10\n",
    "ax.tick_params(axis='x', rotation=90)\n",
    "\n",
    "barF[0].set_color('r')\n",
    "barF[2].set_color('r')\n",
    "barF[5].set_color('r')\n",
    "\n",
    "plt.show()\n"
   ]
  },
  {
   "cell_type": "markdown",
   "metadata": {},
   "source": [
    "![purple-divider](https://user-images.githubusercontent.com/7065401/52071927-c1cd7100-2562-11e9-908a-dde91ba14e59.png)\n",
    "\n",
    "## DRAW PERCENTAGE ANALYSIS"
   ]
  },
  {
   "cell_type": "code",
   "execution_count": null,
   "metadata": {},
   "outputs": [],
   "source": [
    "draws = soccer[['HTR','FTR','AwayTeam' , 'HomeTeam']]\n",
    "#print(Ht_draws)\n",
    "\n",
    "draw_both_halves= draws.loc[(draws['FTR'] == 'D') & (draws['HTR'] == 'D')]\n",
    "print(draw_both_halves)\n",
    "draw_both_halves.describe()\n",
    "draw_both_halves.shape\n",
    "\n",
    "#Ht_draws.loc[soccer['HTR'] == 'D',soccer['FTR'] == 'D']"
   ]
  },
  {
   "cell_type": "markdown",
   "metadata": {},
   "source": [
    "---\n",
    "DRAWS AT HALF TIME & FT\n",
    "\n",
    "-- 42 matches ended in draws at HT and FT"
   ]
  },
  {
   "cell_type": "code",
   "execution_count": 26,
   "metadata": {},
   "outputs": [
    {
     "name": "stdout",
     "output_type": "stream",
     "text": [
      "    HTR FTR      AwayTeam      HomeTeam\n",
      "6     D   D       Everton        Wolves\n",
      "9     D   D       Burnley   Southampton\n",
      "10    D   D     Newcastle       Cardiff\n",
      "21    D   D       Everton   Bournemouth\n",
      "22    D   D       Cardiff  Huddersfield\n",
      "..   ..  ..           ...           ...\n",
      "366   H   D      Brighton       Arsenal\n",
      "368   A   D    Man United  Huddersfield\n",
      "374   D   D       Chelsea     Leicester\n",
      "377   H   D  Huddersfield   Southampton\n",
      "378   H   D       Everton     Tottenham\n",
      "\n",
      "[71 rows x 4 columns]\n"
     ]
    }
   ],
   "source": [
    "# Games which ended in draws\n",
    "draw_FT  =  draws.loc[(draws['FTR'] == 'D')]\n",
    "print(draw_FT)"
   ]
  },
  {
   "cell_type": "markdown",
   "metadata": {},
   "source": [
    "---\n",
    "TOTAL DRAWS AT FULL TIME\n",
    "\n",
    "There were a total 71 matches that ended at FT being Draws\n",
    "This implies there were 31 matches that were being won at HT but still ended in Draws."
   ]
  },
  {
   "cell_type": "markdown",
   "metadata": {},
   "source": [
    "\n",
    "DRAW PERCENTAGE ANALYSIS\n",
    "\n",
    "Out of 380 matches , 71 ended in Draws.\n",
    "\n",
    "This implies an **18.68%** for matches to end in draws"
   ]
  },
  {
   "cell_type": "code",
   "execution_count": 34,
   "metadata": {},
   "outputs": [
    {
     "name": "stdout",
     "output_type": "stream",
     "text": [
      "DRAW PERCENTAGE: 0.1868421052631579\n",
      "AWAY WIN PERCENTAGE:  0.3368421052631579\n",
      "HOME WIN PERCENTAGE : 0.4763157894736842\n"
     ]
    }
   ],
   "source": [
    "#percentage of drawn games\n",
    "percentage_of_drawn_games = len(draw_FT)/ len(soccer)\n",
    "\n",
    "# Away teams winning at full time\n",
    "AWAY_FT = draws.loc[(draws['FTR']== 'A')]\n",
    "\n",
    "# percentage of AWAY WINS\n",
    "percentage_of_away_wins = len(AWAY_FT)/ len(soccer)\n",
    "\n",
    "# Home teams winning at full time\n",
    "HOME_FT = draws.loc[(draws['FTR']== 'H')]\n",
    "\n",
    "# percentage of HOME WINS\n",
    "percentage_of_home_wins = len(HOME_FT)/ len(soccer)\n",
    "\n",
    "\n",
    "\n",
    "print(\"DRAW PERCENTAGE: \"+ str(percentage_of_drawn_games))\n",
    "\n",
    "print(\"AWAY WIN PERCENTAGE:  \" + str(percentage_of_away_wins))\n",
    "\n",
    "print(\"HOME WIN PERCENTAGE : \" + str(percentage_of_home_wins))\n"
   ]
  },
  {
   "cell_type": "code",
   "execution_count": 244,
   "metadata": {},
   "outputs": [
    {
     "data": {
      "image/png": "[encoded data removed]",
      "text/plain": [
       "<Figure size 640x480 with 1 Axes>"
      ]
     },
     "metadata": {},
     "output_type": "display_data"
    }
   ],
   "source": [
    "x = np.array([len(HOME_FT),len(AWAY_FT),len(draw_FT)])\n",
    "sorted_x = sorted(x)\n",
    "mylabels = [\"HOME\",\"AWAY\" ,\"DRAWS\"]\n",
    "\n",
    "myexplode = [0.04,0.04,0.04]\n",
    "\n",
    "color = [\"Blue\" ,\"Yellow\" ,\"Red\"]\n",
    "colors2 = [\"#00ebc1\", \"#00b8ba\", \"#0085b4\"]\n",
    "\n",
    "plt.pie(x,labels=mylabels , startangle= 180,explode=myexplode,\n",
    "        counterclock=False,colors= colors2,autopct='%1.2f%%',\n",
    "        pctdistance=0.80,)\n",
    "\n",
    "plt.legend(loc='lower center',ncol = 3)\n",
    "\n",
    "hole = plt.Circle((0, 0), 0.60, facecolor='white')\n",
    "plt.gcf().gca().add_artist(hole)\n",
    "plt.show()"
   ]
  },
  {
   "cell_type": "markdown",
   "metadata": {},
   "source": [
    "## CARD ANALYSIS"
   ]
  },
  {
   "cell_type": "markdown",
   "metadata": {},
   "source": [
    "## YELLOW CARDS  ANALYSIS\n",
    "\n",
    "Average number of yellow cards for every match is **3** (3.210)\n",
    "\n",
    "The average number of yellow cards for the Away Team is **1.68** (1.68 -> 2)\n",
    "\n",
    "The average number of yellow cards for the Home Team is **1.53** (1.52 -> 2)\n",
    "\n",
    "-------\n",
    "INSIGHT\n",
    "\n",
    "It is expected that there will be at least 2 yellow cards shown each game"
   ]
  },
  {
   "cell_type": "code",
   "execution_count": 113,
   "metadata": {},
   "outputs": [
    {
     "name": "stdout",
     "output_type": "stream",
     "text": [
      "0      3\n",
      "1      2\n",
      "2      3\n",
      "3      3\n",
      "4      4\n",
      "      ..\n",
      "375    2\n",
      "376    6\n",
      "377    1\n",
      "378    2\n",
      "379    1\n",
      "Name: Total_yCards, Length: 380, dtype: int64\n"
     ]
    },
    {
     "data": {
      "text/plain": [
       "1.5263157894736843"
      ]
     },
     "execution_count": 113,
     "metadata": {},
     "output_type": "execute_result"
    }
   ],
   "source": [
    "yellow_cards = soccer[['HomeTeam','AwayTeam','HY','AY']].copy()\n",
    "yellow_cards['Total_yCards'] = yellow_cards['HY'] + yellow_cards['AY']\n",
    "#print(yellow_cards)\n",
    "print(yellow_cards['Total_yCards'])\n",
    "#yellow_cards['AY'].mean()\n",
    "yellow_cards['HY'].mean()"
   ]
  },
  {
   "cell_type": "markdown",
   "metadata": {},
   "source": [
    "## RED CARD ANALYSIS"
   ]
  },
  {
   "cell_type": "code",
   "execution_count": null,
   "metadata": {},
   "outputs": [],
   "source": [
    "red_cards = soccer[['HomeTeam','AwayTeam','HR','AR','FTR']].copy()\n",
    "red_cards['total_rCards'] = red_cards['HR'] + red_cards['AR']\n",
    "\n",
    "#print(red_cards)\n",
    "home_red = red_cards.groupby(by=['HomeTeam','FTR'],as_index=False)['HR'].sum()\n",
    "\n",
    "home_red_not_null = home_red.loc[(home_red['HR'] > 0) ]\n",
    "print(home_red_not_null)\n",
    "#print(home_red)\n",
    "\n"
   ]
  },
  {
   "cell_type": "markdown",
   "metadata": {},
   "source": []
  },
  {
   "cell_type": "code",
   "execution_count": null,
   "metadata": {},
   "outputs": [],
   "source": [
    "#soccer.loc[(soccer['HomeTeam']=='Brighton') & (soccer['HR'] == 1) & (soccer['FTR'] == 'H') ]\n",
    "#soccer.loc[(soccer['HomeTeam']=='Leicester') & (soccer['HR'] == 1) & (soccer['FTR'] == 'H')]\n",
    "#soccer.loc[(soccer['HomeTeam']=='Liverpool') & (soccer['HR'] == 1) & (soccer['FTR'] == 'H')]\n",
    "#soccer.loc[(soccer['HomeTeam']=='Man United') & (soccer['HR'] == 1) & (soccer['FTR'] == 'H')]\n"
   ]
  },
  {
   "cell_type": "markdown",
   "metadata": {},
   "source": [
    "A home team received a Red card on 14 occassios\n",
    "Only **4** home teams were to win their matches after getting a  red card.\n",
    "\n",
    "\n",
    "Details of the 4 games can be run above"
   ]
  },
  {
   "cell_type": "code",
   "execution_count": 221,
   "metadata": {},
   "outputs": [
    {
     "name": "stdout",
     "output_type": "stream",
     "text": [
      "12\n"
     ]
    }
   ],
   "source": [
    "away_red = red_cards.groupby(by=['AwayTeam','FTR'],as_index=False)['AR'].sum()\n",
    "\n",
    "away_red_not_null = away_red.loc[away_red['AR'] > 0]\n",
    "#print(len(away_red_not_null))\n",
    "\n",
    "away_red_not_null_draws = away_red.loc[(away_red['AR'] > 0) & (away_red['FTR'] == 'D')]\n",
    "\n",
    "# number of matches where away team recorded a red and the match ended in a draw\n",
    "#print(len(away_red_not_null_draws))\n",
    "\n",
    "away_red_not_null_loss = away_red.loc[(away_red['AR'] > 0 ) & (away_red['FTR'] == 'H')]\n",
    "print(len(away_red_not_null_loss))\n",
    "#print(home_red)\n",
    "\n"
   ]
  },
  {
   "cell_type": "markdown",
   "metadata": {},
   "source": [
    "\n",
    "\n",
    "An Away Team had recorded a red card at least **24 Times**\n",
    "The Match ended in a draw on only **6 Ocassions**\n",
    "The Home Team won on **12** of those 24 Times"
   ]
  },
  {
   "cell_type": "code",
   "execution_count": 204,
   "metadata": {},
   "outputs": [
    {
     "data": {
      "text/plain": [
       "Text(0.5, 1.0, 'Red Cards by Away Teams Leading to Draws')"
      ]
     },
     "execution_count": 204,
     "metadata": {},
     "output_type": "execute_result"
    },
    {
     "data": {
      "image/png": "[encoded data removed]",
      "text/plain": [
       "<Figure size 2600x1000 with 1 Axes>"
      ]
     },
     "metadata": {},
     "output_type": "display_data"
    }
   ],
   "source": [
    "\n",
    "fig, ax = plt.subplots(figsize =(26, 10))\n",
    "\n",
    "#barsFouls = ax.barh(y = merged_fouls['Team'], width =merged_fouls['Total Fouls'],linewidth = 0 , )\n",
    "#barsFouls[0].set_color('r')\n",
    "#barsFouls[2].set_color('r')\n",
    "#barsFouls[5].set_color('r')\n",
    "barRedCardsDraws= ax.bar(x = away_red_not_null_draws['AwayTeam'], \n",
    "                         height = away_red_not_null_draws['AR'],\n",
    "                         linewidth = 0 ,\n",
    "                         align='center' ,\n",
    "                         label= away_red_not_null_draws['AwayTeam'])\n",
    "\n",
    "for bar in barRedCardsDraws:\n",
    "    bar.set_color('lightblue')\n",
    "ax.legend(frameon=False, loc='upper center', ncol=6)\n",
    "plt.rcParams['font.size'] = 10\n",
    "plt.rcParams['legend.fancybox'] = True\n",
    "plt.rcParams['legend.fontsize'] = 10\n",
    "plt.rcParams['axes.ymargin'] = 1\n",
    "plt.rcParams['figure.facecolor'] = 'white'\n",
    "\n",
    "\n",
    "plt.rcParams['figure.titlesize'] = 50\n",
    "\n",
    "fontdict1 = {'family' : 'Poppins' , 'size':'30' ,'color':'DarkBlue'}\n",
    "fontdict2 = {'family' : 'Poppins' , 'size':'20' ,'color':'DarkBlue'}\n",
    "\n",
    "ax.set_xlabel('Away Team',fontdict=fontdict2)\n",
    "ax.set_ylabel('Number of Red Cards',fontdict=fontdict2)\n",
    "\n",
    "\n",
    "\n",
    "ax.set_title('Red Cards by Away Teams Leading to Draws' , fontdict=fontdict1)"
   ]
  },
  {
   "cell_type": "code",
   "execution_count": 226,
   "metadata": {},
   "outputs": [
    {
     "data": {
      "text/plain": [
       "Text(0.5, 1.0, 'Red Cards by Away Teams Leading to Loss')"
      ]
     },
     "execution_count": 226,
     "metadata": {},
     "output_type": "execute_result"
    },
    {
     "data": {
      "image/png": "[encoded data removed]",
      "text/plain": [
       "<Figure size 2600x1000 with 1 Axes>"
      ]
     },
     "metadata": {},
     "output_type": "display_data"
    }
   ],
   "source": [
    "fig,ax = plt.subplots(figsize =(26,10))\n",
    "\n",
    "barAwayRedCardsLoss =  ax.bar(x = away_red_not_null_loss['AwayTeam'], \n",
    "                         height = away_red_not_null_loss['AR'],\n",
    "                         linewidth = 0 ,\n",
    "                         align='center' ,\n",
    "                         label= away_red_not_null_loss['AwayTeam'])\n",
    "\n",
    "\n",
    "\n",
    "ax.set_xlabel(\"Away Team\",fontdict=fontdict2)\n",
    "ax.set_ylabel(\"Number of red cards\",fontdict=fontdict2)\n",
    "ax.legend(frameon = False ,ncol = len(away_red_not_null_loss), loc = 'upper center')\n",
    "ax.set_title(\"Red Cards by Away Teams Leading to Loss\",fontdict=fontdict1)"
   ]
  },
  {
   "cell_type": "markdown",
   "metadata": {},
   "source": [
    "---\n",
    "__*INSIGHT AWAY TEAM RED CARDS*__ \n",
    "____________\n",
    "An away team received a red card on __24__ occasions.\n",
    "\n",
    "The Away Team were able to win the match on __6__ of the 24 occasions.\n",
    "\n",
    "The match ended in a Draw on **6** other occasions.\n",
    "\n",
    "The Away Team lost the remaining __12__ ."
   ]
  },
  {
   "cell_type": "markdown",
   "metadata": {},
   "source": [
    "Home Team chances of winning a match when the AwayTeam gets a red card is 50%\n",
    "Then a 25% draw amd 25% win for the away team\n"
   ]
  }
 ],
 "metadata": {
  "kernelspec": {
   "display_name": "Python 3",
   "language": "python",
   "name": "python3"
  },
  "language_info": {
   "codemirror_mode": {
    "name": "ipython",
    "version": 3
   },
   "file_extension": ".py",
   "mimetype": "text/x-python",
   "name": "python",
   "nbconvert_exporter": "python",
   "pygments_lexer": "ipython3",
   "version": "3.11.4"
  }
 },
 "nbformat": 4,
 "nbformat_minor": 2
}
